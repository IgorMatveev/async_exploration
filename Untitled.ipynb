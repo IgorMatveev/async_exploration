{
 "cells": [
  {
   "cell_type": "markdown",
   "metadata": {},
   "source": [
    "## Идеи:\n",
    "1. Приоритизировать потоки при добавлении в список задач.\n",
    "    * В зависимости от приоритета понимать, что брать следующее\n",
    "---"
   ]
  },
  {
   "cell_type": "markdown",
   "metadata": {},
   "source": [
    "Хочется опробовать основы асинхронного програмирования Python"
   ]
  },
  {
   "cell_type": "markdown",
   "metadata": {},
   "source": [
    "Итак, асинхронность имеет смысл только если есть:\n",
    "* 2 или более сопрограмм (к случаю с 1 сопрограммой стоит вернуться позже)\n",
    "* хотя бы в одной сопрограмме есть ожидание чего либо (sleep, http-запрос, ввод пользователя и пр)"
   ]
  },
  {
   "cell_type": "markdown",
   "metadata": {},
   "source": [
    "Но для начала разберемся в терминологии и синтаксисе."
   ]
  },
  {
   "cell_type": "markdown",
   "metadata": {},
   "source": [
    "Корутина (coroutine) - сопрограмма.\n",
    "> Понятие сопрограмма имеет очень широкое толкование, поэтому следует определиться, какими характеристиками они будут обладать в нашей реализации:\n",
    ">* Выполняются совместно в одном потоке;\n",
    ">* Выполнение может прерываться для ожидания определенного события;\n",
    ">* Выполнение может возобновиться после получения ожидаемого события;\n",
    ">* Может вернуть результат по завершению.\n"
   ]
  },
  {
   "cell_type": "code",
   "execution_count": 1,
   "metadata": {},
   "outputs": [],
   "source": [
    "async def f():\n",
    "    pass"
   ]
  },
  {
   "cell_type": "code",
   "execution_count": 2,
   "metadata": {},
   "outputs": [
    {
     "data": {
      "text/plain": [
       "<function __main__.f()>"
      ]
     },
     "execution_count": 2,
     "metadata": {},
     "output_type": "execute_result"
    }
   ],
   "source": [
    "f"
   ]
  },
  {
   "cell_type": "code",
   "execution_count": 3,
   "metadata": {},
   "outputs": [
    {
     "data": {
      "text/plain": [
       "<coroutine object f at 0x7f8ce8612570>"
      ]
     },
     "execution_count": 3,
     "metadata": {},
     "output_type": "execute_result"
    }
   ],
   "source": [
    "f()"
   ]
  },
  {
   "cell_type": "code",
   "execution_count": 5,
   "metadata": {},
   "outputs": [],
   "source": [
    "g = f()"
   ]
  },
  {
   "cell_type": "code",
   "execution_count": 6,
   "metadata": {},
   "outputs": [
    {
     "ename": "TypeError",
     "evalue": "'coroutine' object is not an iterator",
     "output_type": "error",
     "traceback": [
      "\u001b[0;31m---------------------------------------------------------------------------\u001b[0m",
      "\u001b[0;31mTypeError\u001b[0m                                 Traceback (most recent call last)",
      "\u001b[0;32m<ipython-input-6-e734f8aca5ac>\u001b[0m in \u001b[0;36m<module>\u001b[0;34m\u001b[0m\n\u001b[0;32m----> 1\u001b[0;31m \u001b[0mnext\u001b[0m\u001b[0;34m(\u001b[0m\u001b[0mg\u001b[0m\u001b[0;34m)\u001b[0m\u001b[0;34m\u001b[0m\u001b[0;34m\u001b[0m\u001b[0m\n\u001b[0m",
      "\u001b[0;31mTypeError\u001b[0m: 'coroutine' object is not an iterator"
     ]
    }
   ],
   "source": [
    "next(g)"
   ]
  },
  {
   "cell_type": "markdown",
   "metadata": {},
   "source": [
    "Что же за тип этот корутина? что с ним можно и нужно делать?"
   ]
  },
  {
   "cell_type": "markdown",
   "metadata": {},
   "source": [
    "Рассмотрим на примере статьи [Python реализация парадигмы event-driven с помощью сопрограмм](https://habr.com/ru/post/243207/)"
   ]
  },
  {
   "cell_type": "markdown",
   "metadata": {},
   "source": [
    "Представьте задачу: передавать привет Петрову раз в две секунды, Иванову раз в три секунды, а всему миру раз в пять секунд. В виде Python кода можно представить как-то так:"
   ]
  },
  {
   "cell_type": "code",
   "execution_count": null,
   "metadata": {},
   "outputs": [],
   "source": [
    "def hello(name, timeout):\n",
    "    while True:\n",
    "        sleep(timeout)\n",
    "        print(\"Привет, {}!\".format(name))\n",
    "hello(\"Петров\", 2.0)\n",
    "hello(\"Иванов\", 3.0)\n",
    "hello(\"Мир\", 5.0)"
   ]
  },
  {
   "cell_type": "markdown",
   "metadata": {},
   "source": [
    "Смотрится хорошо, но приветы будет получать только Петров. Однако! Небольшая модификация не влияющая на ясность кода, а даже наоборот — уточняющая нашу мысль, и это уже может заработать как положено."
   ]
  },
  {
   "cell_type": "code",
   "execution_count": null,
   "metadata": {},
   "outputs": [],
   "source": [
    "@coroutine\n",
    "def hello(name, timeout):\n",
    "    while True:\n",
    "        yield from sleep(timeout)\n",
    "        print(\"Привет, {}!\".format(name))\n",
    "\n",
    "hello(\"Петров\", 2.0)\n",
    "hello(\"Иванов\", 3.0)\n",
    "hello(\"Мир\", 5.0)\n",
    "run()"
   ]
  },
  {
   "cell_type": "markdown",
   "metadata": {},
   "source": [
    "Код получился в стиле pythonic way — наглядно иллюстрирует задачу, линейный без калбэков, без лишних наворотов с объектами, любые комментарии в нем излишни. Осталось только реализовать декоратор coroutine, свою версию функции sleep и функцию run. В реализации, конечно, без наворотов не обойдется. Но это тоже pythonic way, прятать за фасадом библиотечных модулей всю магию."
   ]
  },
  {
   "cell_type": "code",
   "execution_count": 2,
   "metadata": {
    "scrolled": true
   },
   "outputs": [],
   "source": [
    "class coroutine(object):\n",
    "    \"\"\"Делает из функции сопрограмму на базе расширенного генератора.\"\"\"\n",
    "    _current = None\n",
    "    def __init__(self, callable):\n",
    "        self._callable = callable\n",
    "    def __call__(self, *args, **kwargs):\n",
    "        corogen = self._callable(*args, **kwargs)\n",
    "        cls = self.__class__\n",
    "        if cls._current is None:\n",
    "            try:\n",
    "                cls._current = corogen\n",
    "                next(corogen)\n",
    "            finally:\n",
    "                cls._current = None\n",
    "        return corogen"
   ]
  },
  {
   "cell_type": "markdown",
   "metadata": {},
   "source": [
    "Декоратором может быть любой объект, имеющий метод `__call__`. Только в данном случае метод `__call__` не похож га декоратор, так как принимает не функцию, а аргументы функции, и возвращает результат функции, а не функцию. Давайте разберемся."
   ]
  },
  {
   "cell_type": "markdown",
   "metadata": {},
   "source": [
    "Для этого добавим в описание класса принтов:"
   ]
  },
  {
   "cell_type": "code",
   "execution_count": 2,
   "metadata": {},
   "outputs": [
    {
     "name": "stdout",
     "output_type": "stream",
     "text": [
      "In class definition\n"
     ]
    }
   ],
   "source": [
    "class coroutine(object):\n",
    "    \"\"\"Делает из функции сопрограмму на базе расширенного генератора.\"\"\"\n",
    "    _current = None\n",
    "    print(\"In class definition\")\n",
    "    def __init__(self, callable):\n",
    "        print(\"In __init__ func\")\n",
    "        self._callable = callable\n",
    "    def __call__(self, *args, **kwargs):\n",
    "        print(\"In __call__ func\")\n",
    "        corogen = self._callable(*args, **kwargs)\n",
    "        cls = self.__class__\n",
    "        if cls._current is None:\n",
    "            try:\n",
    "                cls._current = corogen\n",
    "                next(corogen)\n",
    "            finally:\n",
    "                cls._current = None\n",
    "        return corogen"
   ]
  },
  {
   "cell_type": "code",
   "execution_count": 3,
   "metadata": {},
   "outputs": [
    {
     "name": "stdout",
     "output_type": "stream",
     "text": [
      "In __init__ func\n"
     ]
    }
   ],
   "source": [
    "@coroutine\n",
    "def f():\n",
    "    print(\"In f func\")"
   ]
  },
  {
   "cell_type": "code",
   "execution_count": 13,
   "metadata": {},
   "outputs": [
    {
     "name": "stdout",
     "output_type": "stream",
     "text": [
      "In __call__ func\n",
      "In f func\n"
     ]
    }
   ],
   "source": [
    "try:\n",
    "    f()\n",
    "except:\n",
    "    pass"
   ]
  },
  {
   "cell_type": "code",
   "execution_count": 14,
   "metadata": {},
   "outputs": [
    {
     "name": "stdout",
     "output_type": "stream",
     "text": [
      "In __call__ func\n",
      "In f func\n"
     ]
    }
   ],
   "source": [
    "try:\n",
    "    f()\n",
    "except:\n",
    "    pass"
   ]
  },
  {
   "cell_type": "code",
   "execution_count": 8,
   "metadata": {},
   "outputs": [
    {
     "data": {
      "text/plain": [
       "<__main__.coroutine at 0x7f562cbee358>"
      ]
     },
     "execution_count": 8,
     "metadata": {},
     "output_type": "execute_result"
    }
   ],
   "source": [
    "f"
   ]
  },
  {
   "cell_type": "code",
   "execution_count": 10,
   "metadata": {},
   "outputs": [
    {
     "data": {
      "text/plain": [
       "__main__.coroutine"
      ]
     },
     "execution_count": 10,
     "metadata": {},
     "output_type": "execute_result"
    }
   ],
   "source": [
    "coroutine"
   ]
  },
  {
   "cell_type": "code",
   "execution_count": 9,
   "metadata": {},
   "outputs": [
    {
     "data": {
      "text/plain": [
       "<function __main__.g()>"
      ]
     },
     "execution_count": 9,
     "metadata": {},
     "output_type": "execute_result"
    }
   ],
   "source": [
    "def g():\n",
    "    pass\n",
    "g"
   ]
  },
  {
   "cell_type": "markdown",
   "metadata": {},
   "source": [
    "Получается, в момент объявления функции `f` с декоратором перед ней вызывается функция `__init__` и в аргумент передается функция `f`, и в переменную `f` кладется экземпляр класса `coroutine`. И при каждом вызове `f` (теперь экземпляра класса) запускается код функции `__call__`."
   ]
  },
  {
   "cell_type": "markdown",
   "metadata": {},
   "source": [
    "Немного отходя от темы асинхронности ещё немного изучим декораторы, чтобы не допутить ошибки в представлении выше.\n",
    "[В этой статье](https://tproger.ru/translations/demystifying-decorators-in-python/) приведен следующий пример декоратора"
   ]
  },
  {
   "cell_type": "code",
   "execution_count": 1,
   "metadata": {},
   "outputs": [],
   "source": [
    "from collections import deque\n",
    "\n",
    "class Memoized:\n",
    "    def __init__(self, cache_size=100):\n",
    "        self.cache_size = cache_size\n",
    "        self.call_args_queue = deque()\n",
    "        self.call_args_to_result = {}\n",
    "\n",
    "    def __call__(self, fn):\n",
    "        def new_func(*args, **kwargs):\n",
    "            memoization_key = self._convert_call_arguments_to_hash(args, kwargs)\n",
    "            if memoization_key not in self.call_args_to_result:\n",
    "                result = fn(*args, **kwargs)\n",
    "                self._update_cache_key_with_value(memoization_key, result)\n",
    "                self._evict_cache_if_necessary()\n",
    "            return self.call_args_to_result[memoization_key]\n",
    "        return new_func\n",
    "\n",
    "    def _update_cache_key_with_value(self, key, value):\n",
    "        self.call_args_to_result[key] = value\n",
    "        self.call_args_queue.append(key)\n",
    "\n",
    "    def _evict_cache_if_necessary(self):\n",
    "        if len(self.call_args_queue) > self.cache_size:\n",
    "            oldest_key = self.call_args_queue.popleft()\n",
    "            del self.call_args_to_result[oldest_key]\n",
    "\n",
    "    @staticmethod\n",
    "    def _convert_call_arguments_to_hash(args, kwargs):\n",
    "        return hash(str(args) + str(kwargs))\n",
    "\n",
    "\n",
    "@Memoized(cache_size=5)\n",
    "def get_not_so_random_number_with_max(max_value):\n",
    "    import random\n",
    "    return random.random() * max_value"
   ]
  },
  {
   "cell_type": "markdown",
   "metadata": {},
   "source": [
    "Здесь мы видим, что `__init__` принимает не функцию, а огргументы, а `__call__`принимает функцию и возвращает функцию. "
   ]
  },
  {
   "cell_type": "markdown",
   "metadata": {},
   "source": [
    "Подозреваю, что класс `coroutine` - это декоратор генератора, а не функции, поэтому он и отличается от класса `Memorized` - декоратора функции. На этом остановим исследование декораторов."
   ]
  },
  {
   "cell_type": "markdown",
   "metadata": {},
   "source": [
    "Получаем, что декоратор `coroutine`:\n",
    "\n",
    "* `corogen = self._callable(*args, **kwargs)` - создает генератор,\n",
    "\n",
    "```\n",
    "if cls._current is None:\n",
    "    try:\n",
    "        cls._current = corogen\n",
    "        next(corogen)\n",
    "    finally:\n",
    "        cls._current = None\n",
    "``` - Если это первый \n"
   ]
  },
  {
   "cell_type": "code",
   "execution_count": null,
   "metadata": {},
   "outputs": [],
   "source": []
  }
 ],
 "metadata": {
  "kernelspec": {
   "display_name": "Python 3",
   "language": "python",
   "name": "python3"
  },
  "language_info": {
   "codemirror_mode": {
    "name": "ipython",
    "version": 3
   },
   "file_extension": ".py",
   "mimetype": "text/x-python",
   "name": "python",
   "nbconvert_exporter": "python",
   "pygments_lexer": "ipython3",
   "version": "3.6.9"
  }
 },
 "nbformat": 4,
 "nbformat_minor": 2
}
